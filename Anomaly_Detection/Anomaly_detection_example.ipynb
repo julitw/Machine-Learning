{
  "cells": [
    {
      "cell_type": "code",
      "execution_count": null,
      "metadata": {
        "id": "8GwgKchlwX-t"
      },
      "outputs": [],
      "source": [
        "import numpy as np  \n",
        "import pandas as pd  \n",
        "import matplotlib.pyplot as plt  \n",
        "from scipy.io import loadmat  "
      ]
    },
    {
      "cell_type": "code",
      "execution_count": null,
      "metadata": {
        "colab": {
          "base_uri": "https://localhost:8080/"
        },
        "id": "hni5JgO4y4V3",
        "outputId": "eb36f1ea-3fb9-4cc2-b68e-cd234a510163"
      },
      "outputs": [
        {
          "name": "stdout",
          "output_type": "stream",
          "text": [
            "(307, 2)\n",
            "dict_keys(['__header__', '__version__', '__globals__', 'X', 'Xval', 'yval'])\n",
            "b'MATLAB 5.0 MAT-file, Platform: GLNXA64, Created on: Thu Dec  1 15:37:10 2011'\n"
          ]
        }
      ],
      "source": [
        "data = loadmat('ex8data1.mat')  \n",
        "X = data['X']\n",
        "print(X.shape)\n",
        "print(data.keys())\n",
        "print(data['__header__'])"
      ]
    },
    {
      "cell_type": "code",
      "execution_count": null,
      "metadata": {
        "colab": {
          "base_uri": "https://localhost:8080/",
          "height": 312
        },
        "id": "R5JB1zOozju3",
        "outputId": "5e3d2d72-c224-4500-c4f9-53799dbcb251"
      },
      "outputs": [
        {
          "data": {
            "text/plain": [
              "Text(0.5, 1.0, 'Data visualisation')"
            ]
          },
          "execution_count": 3,
          "metadata": {},
          "output_type": "execute_result"
        },
        {
          "data": {
            "image/png": "[encoded data removed]",
            "text/plain": [
              "<Figure size 432x288 with 1 Axes>"
            ]
          },
          "metadata": {},
          "output_type": "display_data"
        }
      ],
      "source": [
        "plt.scatter(X.T[0],X.T[1], marker=\"+\")\n",
        "plt.xlabel('latency')\n",
        "plt.ylabel('throughput')\n",
        "plt.title('Data visualisation')"
      ]
    },
    {
      "cell_type": "code",
      "execution_count": null,
      "metadata": {
        "colab": {
          "base_uri": "https://localhost:8080/",
          "height": 352
        },
        "id": "8CyghsXO0xcG",
        "outputId": "45757e91-4a64-4bc7-ac8c-58b6cfca391f"
      },
      "outputs": [
        {
          "data": {
            "text/plain": [
              "(array([  1.,   0.,   0.,   8., 142., 142.,  10.,   2.,   0.,   2.]),\n",
              " array([ 4.75261282,  6.61133829,  8.47006376, 10.32878923, 12.1875147 ,\n",
              "        14.04624018, 15.90496565, 17.76369112, 19.62241659, 21.48114206,\n",
              "        23.33986753]),\n",
              " <a list of 10 Patch objects>)"
            ]
          },
          "execution_count": 6,
          "metadata": {},
          "output_type": "execute_result"
        },
        {
          "data": {
            "image/png": "[encoded data removed]",
            "text/plain": [
              "<Figure size 432x288 with 1 Axes>"
            ]
          },
          "metadata": {},
          "output_type": "display_data"
        }
      ],
      "source": [
        "plt.hist(X.T[0])"
      ]
    },
    {
      "cell_type": "code",
      "execution_count": null,
      "metadata": {
        "colab": {
          "base_uri": "https://localhost:8080/",
          "height": 352
        },
        "id": "Vavrr3rr1KGG",
        "outputId": "0a0fe9e1-3ddd-4958-f338-4c0e1ad52c7b"
      },
      "outputs": [
        {
          "data": {
            "text/plain": [
              "(array([  1.,   0.,   1.,   2.,  53., 219.,  30.,   0.,   0.,   1.]),\n",
              " array([ 4.12623222,  6.14864973,  8.17106723, 10.19348473, 12.21590223,\n",
              "        14.23831974, 16.26073724, 18.28315474, 20.30557224, 22.32798975,\n",
              "        24.35040725]),\n",
              " <a list of 10 Patch objects>)"
            ]
          },
          "execution_count": 7,
          "metadata": {},
          "output_type": "execute_result"
        },
        {
          "data": {
            "image/png": "[encoded data removed]",
            "text/plain": [
              "<Figure size 432x288 with 1 Axes>"
            ]
          },
          "metadata": {},
          "output_type": "display_data"
        }
      ],
      "source": [
        "plt.hist(X.T[1])"
      ]
    },
    {
      "cell_type": "code",
      "execution_count": null,
      "metadata": {
        "id": "XedoRWDf1qwr"
      },
      "outputs": [],
      "source": [
        "def estimate_gaussian(X):\n",
        "  mu = np.mean(X.T, axis=1)\n",
        "  sigma = np.var(X.T, axis=1)\n",
        "  return mu, sigma"
      ]
    },
    {
      "cell_type": "code",
      "execution_count": null,
      "metadata": {
        "id": "lM4woo3U2Kd-"
      },
      "outputs": [],
      "source": [
        "gauss = estimate_gaussian(X)\n",
        "x1_mean = gauss[0][0]\n",
        "x1_var = gauss[1][0]\n",
        "x2_mean = gauss[0][1]\n",
        "x2_var = gauss[1][1]"
      ]
    },
    {
      "cell_type": "code",
      "execution_count": null,
      "metadata": {
        "colab": {
          "base_uri": "https://localhost:8080/"
        },
        "id": "doJG_lU45dn_",
        "outputId": "24a43e91-fd22-45eb-c62b-a359d31fd240"
      },
      "outputs": [
        {
          "data": {
            "text/plain": [
              "(307, 2)"
            ]
          },
          "execution_count": 6,
          "metadata": {},
          "output_type": "execute_result"
        }
      ],
      "source": [
        "Xval = data['Xval']  \n",
        "yval = data['yval']\n",
        "(Xval.shape)"
      ]
    },
    {
      "cell_type": "code",
      "execution_count": null,
      "metadata": {
        "id": "H0Qe_N2550HF"
      },
      "outputs": [],
      "source": [
        "from scipy import stats\n",
        "p_X1 = np.zeros((X.shape[0]))\n",
        "p_X2 = np.zeros((X.shape[0]))\n",
        "p_X1 = stats.norm.pdf(X[:,0], loc=x1_mean, scale=np.sqrt(x1_var))\n",
        "p_X2 = stats.norm.pdf(X[:,1], loc=x2_mean, scale=np.sqrt(x2_var))\n",
        "\n",
        "P = stats.norm.pdf(X, loc=np.array([x1_mean, x2_mean]).T, scale=np.array([np.sqrt(x1_var), np.sqrt(x1_var)]).T)"
      ]
    },
    {
      "cell_type": "code",
      "execution_count": null,
      "metadata": {
        "colab": {
          "background_save": true,
          "base_uri": "https://localhost:8080/"
        },
        "id": "F8BW9hf4Nd6d",
        "outputId": "5ac1ca74-dc20-40f9-ddbe-c2dcc8915d05"
      },
      "outputs": [
        {
          "data": {
            "text/plain": [
              "array([2.16209766e-01, 2.57452082e-01, 2.94132233e-01, 2.47211916e-01,\n",
              "       2.72515466e-01, 2.91811896e-01, 1.87139581e-01, 1.51176483e-01,\n",
              "       9.35633051e-02, 1.66608997e-01, 2.93387080e-01, 2.94487687e-01,\n",
              "       2.55592373e-01, 2.55956210e-01, 2.93271402e-01, 2.94445597e-01,\n",
              "       2.92880166e-01, 2.85183307e-01, 2.77277592e-01, 9.48976543e-02,\n",
              "       2.70272714e-01, 2.93421614e-01, 2.41105554e-01, 2.93042880e-01,\n",
              "       1.96077288e-01, 1.56529793e-01, 2.75904586e-01, 2.57496215e-01,\n",
              "       2.76670469e-01, 2.83495304e-01, 1.70682832e-01, 2.93186130e-01,\n",
              "       2.04326372e-01, 1.95772970e-01, 1.08970523e-01, 2.45951257e-01,\n",
              "       1.40637462e-01, 2.94633744e-01, 2.80527513e-01, 2.93718568e-01,\n",
              "       2.81681579e-01, 2.25242931e-01, 2.82189416e-01, 2.94296621e-01,\n",
              "       2.66749616e-01, 2.88560129e-01, 1.11371039e-01, 2.94677206e-01,\n",
              "       2.89041960e-01, 1.85565845e-01, 2.40902893e-01, 2.79275320e-01,\n",
              "       2.85710057e-01, 2.94679955e-01, 2.79865441e-01, 2.94563913e-01,\n",
              "       2.94678481e-01, 2.92866760e-01, 2.61576838e-01, 2.93931902e-01,\n",
              "       2.41794994e-01, 2.93111756e-01, 2.00125732e-01, 2.89317885e-01,\n",
              "       2.93040180e-01, 2.40827466e-01, 2.81627103e-01, 2.82320567e-01,\n",
              "       1.49365027e-01, 2.04627572e-01, 2.73806550e-01, 2.22298135e-01,\n",
              "       2.92773818e-01, 1.53104026e-01, 2.90566324e-01, 2.92541529e-01,\n",
              "       2.52947438e-01, 2.94689570e-01, 1.12807682e-01, 2.63766248e-01,\n",
              "       2.85763984e-01, 1.87874150e-01, 2.79494587e-01, 1.89150974e-01,\n",
              "       1.68554473e-01, 2.89343679e-01, 2.76231746e-01, 2.35850580e-01,\n",
              "       2.88643387e-01, 2.93638597e-01, 2.39163932e-01, 2.55081592e-01,\n",
              "       2.90064661e-01, 1.31747739e-01, 2.91182342e-01, 1.31789997e-01,\n",
              "       1.35249751e-01, 2.68400183e-01, 2.67669491e-01, 2.73685605e-01,\n",
              "       1.20272949e-01, 2.56511049e-01, 2.22004236e-01, 1.89312919e-01,\n",
              "       1.80206828e-01, 2.84304792e-01, 1.48244980e-01, 2.58447884e-01,\n",
              "       2.16888734e-01, 3.14843704e-02, 2.90670741e-01, 1.97172214e-01,\n",
              "       2.07099156e-01, 2.94579060e-01, 2.94303360e-01, 1.13215847e-01,\n",
              "       2.56495524e-01, 2.22535828e-01, 2.89527390e-01, 1.70949391e-01,\n",
              "       1.98590928e-01, 2.94156309e-01, 2.87024626e-01, 2.77023908e-01,\n",
              "       2.80682960e-01, 2.75005634e-01, 2.20461360e-01, 2.44524438e-01,\n",
              "       1.08365371e-01, 2.91268921e-01, 2.52839733e-01, 2.93925135e-01,\n",
              "       2.57366483e-01, 2.20305223e-01, 1.69471369e-01, 2.94179388e-01,\n",
              "       2.52388036e-01, 2.55956032e-01, 2.73297032e-01, 2.23096974e-01,\n",
              "       2.80227467e-01, 2.93036883e-01, 9.10004802e-02, 2.76790950e-01,\n",
              "       2.72056195e-01, 1.60404252e-01, 2.14630345e-01, 1.64305537e-02,\n",
              "       2.01894261e-01, 2.93540106e-01, 1.54332923e-01, 1.50364044e-01,\n",
              "       2.36304511e-01, 2.93491228e-01, 2.62985155e-01, 2.26696505e-01,\n",
              "       2.90017181e-01, 2.70617510e-01, 2.08525108e-01, 2.89292076e-01,\n",
              "       2.73461292e-01, 1.15578303e-01, 2.79114147e-01, 2.90350221e-01,\n",
              "       2.75679349e-01, 2.94556584e-01, 2.94373538e-01, 2.94541660e-01,\n",
              "       1.24552425e-01, 2.93206842e-01, 1.71070789e-02, 2.91399355e-01,\n",
              "       1.28466845e-01, 2.17461938e-01, 1.95626725e-01, 2.70392792e-01,\n",
              "       2.72713124e-01, 2.93285255e-01, 1.96520018e-01, 1.21161384e-01,\n",
              "       2.89390700e-01, 2.94645135e-01, 1.62627511e-01, 2.89688480e-01,\n",
              "       2.82809596e-01, 2.93069396e-01, 2.21979231e-01, 2.19292110e-01,\n",
              "       2.47251810e-01, 2.93011617e-01, 2.82346637e-01, 1.48014318e-01,\n",
              "       2.55546872e-01, 2.94628782e-01, 2.54548884e-01, 1.71670331e-01,\n",
              "       2.42943662e-01, 2.92409661e-01, 2.18861098e-01, 2.74550620e-01,\n",
              "       1.69465837e-01, 2.90497267e-01, 2.93958709e-01, 1.91947702e-01,\n",
              "       2.72590899e-01, 2.55794233e-01, 2.80937436e-01, 1.94550536e-01,\n",
              "       2.81290987e-01, 2.93952685e-01, 2.76903928e-01, 2.36771026e-01,\n",
              "       2.94471450e-01, 2.85066979e-01, 2.72754134e-01, 2.89414160e-01,\n",
              "       2.92402207e-01, 2.45211543e-01, 2.85390190e-01, 2.60898066e-01,\n",
              "       2.94175121e-01, 2.87883751e-01, 6.16721397e-02, 1.09148901e-01,\n",
              "       2.50711450e-01, 2.18380723e-01, 6.74633207e-02, 1.95250763e-01,\n",
              "       2.75861961e-01, 2.80959056e-01, 1.63945590e-01, 1.67972271e-01,\n",
              "       2.88076179e-01, 2.12045037e-01, 2.30433964e-01, 2.52776363e-01,\n",
              "       1.86849739e-01, 2.86679352e-01, 2.73606249e-01, 1.39537209e-01,\n",
              "       2.93640261e-01, 2.01592834e-01, 2.81561585e-01, 2.25759836e-01,\n",
              "       2.87765608e-01, 2.13443808e-01, 2.80716858e-01, 2.40804042e-01,\n",
              "       2.39066785e-01, 1.00847997e-01, 2.88948243e-01, 1.13488340e-01,\n",
              "       2.84392609e-01, 2.52257409e-01, 2.21048326e-01, 2.75227457e-01,\n",
              "       2.16212158e-01, 2.94550720e-01, 2.37776204e-01, 2.92361019e-01,\n",
              "       1.88674332e-01, 2.32064606e-01, 2.55290035e-01, 2.18558244e-01,\n",
              "       2.79279179e-01, 2.74146308e-01, 2.44643491e-01, 2.87699249e-01,\n",
              "       2.91535427e-01, 2.69169484e-01, 2.58913687e-01, 2.85572859e-01,\n",
              "       2.85164268e-01, 2.94417651e-01, 1.99364900e-01, 2.29539212e-01,\n",
              "       1.70946436e-01, 2.89481856e-01, 2.42086739e-01, 7.87128185e-02,\n",
              "       2.53570009e-01, 1.12090017e-01, 2.94528979e-01, 2.41116025e-01,\n",
              "       2.63677070e-01, 2.49415443e-01, 2.16612558e-01, 2.85766626e-01,\n",
              "       2.16633170e-01, 2.93887209e-01, 2.87949198e-01, 2.94684492e-01,\n",
              "       2.79847123e-01, 2.94681684e-01, 2.77807376e-01, 2.81415591e-01,\n",
              "       2.91860117e-01, 2.79116442e-01, 2.93675087e-01, 9.13501558e-02,\n",
              "       2.20269615e-01, 3.96782978e-08, 1.42034079e-01, 8.38717586e-05,\n",
              "       2.39928434e-11, 2.68974021e-03, 1.22865368e-11])"
            ]
          },
          "execution_count": null,
          "metadata": {},
          "output_type": "execute_result"
        }
      ],
      "source": [
        "p_X1"
      ]
    },
    {
      "cell_type": "code",
      "execution_count": null,
      "metadata": {
        "colab": {
          "base_uri": "https://localhost:8080/"
        },
        "id": "61xnR1PZNrgx",
        "outputId": "ba4d0357-d192-4bb2-b8c0-4fb1e4496b8e"
      },
      "outputs": [
        {
          "data": {
            "text/plain": [
              "array([[2.16209766e-01, 2.89449826e-01],\n",
              "       [2.57452082e-01, 1.94452365e-01],\n",
              "       [2.94132233e-01, 2.41356205e-01],\n",
              "       [2.47211916e-01, 2.02000055e-01],\n",
              "       [2.72515466e-01, 2.29794021e-01],\n",
              "       [2.91811896e-01, 1.47690195e-01],\n",
              "       [1.87139581e-01, 2.50202989e-01],\n",
              "       [1.51176483e-01, 2.36960321e-01],\n",
              "       [9.35633051e-02, 1.98262660e-01],\n",
              "       [1.66608997e-01, 2.93913767e-01],\n",
              "       [2.93387080e-01, 9.47133682e-02],\n",
              "       [2.94487687e-01, 2.78949230e-01],\n",
              "       [2.55592373e-01, 2.70171764e-01],\n",
              "       [2.55956210e-01, 2.64515977e-01],\n",
              "       [2.93271402e-01, 1.31830704e-01],\n",
              "       [2.94445597e-01, 2.72805606e-01],\n",
              "       [2.92880166e-01, 2.89873577e-01],\n",
              "       [2.85183307e-01, 2.94272799e-01],\n",
              "       [2.77277592e-01, 2.44230301e-01],\n",
              "       [9.48976543e-02, 1.06595131e-01],\n",
              "       [2.70272714e-01, 2.72112515e-01],\n",
              "       [2.93421614e-01, 2.91172086e-01],\n",
              "       [2.41105554e-01, 1.56819705e-01],\n",
              "       [2.93042880e-01, 2.87707686e-01],\n",
              "       [1.96077288e-01, 2.08390839e-01],\n",
              "       [1.56529793e-01, 1.60387724e-01],\n",
              "       [2.75904586e-01, 2.78040089e-01],\n",
              "       [2.57496215e-01, 2.85446871e-01],\n",
              "       [2.76670469e-01, 2.82995385e-01],\n",
              "       [2.83495304e-01, 2.63243918e-01],\n",
              "       [1.70682832e-01, 2.84343037e-01],\n",
              "       [2.93186130e-01, 2.90384338e-01],\n",
              "       [2.04326372e-01, 2.92258774e-01],\n",
              "       [1.95772970e-01, 2.94201446e-01],\n",
              "       [1.08970523e-01, 1.91130809e-01],\n",
              "       [2.45951257e-01, 1.85894774e-01],\n",
              "       [1.40637462e-01, 2.45904110e-01],\n",
              "       [2.94633744e-01, 2.70876329e-01],\n",
              "       [2.80527513e-01, 2.52201036e-01],\n",
              "       [2.93718568e-01, 2.80449230e-01],\n",
              "       [2.81681579e-01, 2.24451019e-01],\n",
              "       [2.25242931e-01, 2.85709321e-01],\n",
              "       [2.82189416e-01, 2.87216441e-01],\n",
              "       [2.94296621e-01, 2.82341465e-01],\n",
              "       [2.66749616e-01, 2.54208301e-01],\n",
              "       [2.88560129e-01, 2.02373371e-01],\n",
              "       [1.11371039e-01, 2.87291312e-01],\n",
              "       [2.94677206e-01, 2.34290201e-01],\n",
              "       [2.89041960e-01, 2.62019123e-01],\n",
              "       [1.85565845e-01, 1.93104909e-01],\n",
              "       [2.40902893e-01, 2.94685262e-01],\n",
              "       [2.79275320e-01, 2.63641343e-01],\n",
              "       [2.85710057e-01, 2.89324819e-01],\n",
              "       [2.94679955e-01, 2.94324353e-01],\n",
              "       [2.79865441e-01, 2.63931771e-01],\n",
              "       [2.94563913e-01, 2.78059784e-01],\n",
              "       [2.94678481e-01, 2.85172844e-01],\n",
              "       [2.92866760e-01, 2.94682968e-01],\n",
              "       [2.61576838e-01, 2.89501321e-01],\n",
              "       [2.93931902e-01, 2.05688888e-01],\n",
              "       [2.41794994e-01, 2.76562301e-01],\n",
              "       [2.93111756e-01, 2.94603885e-01],\n",
              "       [2.00125732e-01, 1.21212466e-01],\n",
              "       [2.89317885e-01, 1.38249894e-01],\n",
              "       [2.93040180e-01, 1.21809501e-01],\n",
              "       [2.40827466e-01, 2.83847575e-01],\n",
              "       [2.81627103e-01, 1.23741807e-01],\n",
              "       [2.82320567e-01, 2.77967068e-01],\n",
              "       [1.49365027e-01, 1.61598167e-01],\n",
              "       [2.04627572e-01, 4.92524759e-02],\n",
              "       [2.73806550e-01, 2.92749331e-01],\n",
              "       [2.22298135e-01, 8.32883553e-02],\n",
              "       [2.92773818e-01, 2.59977347e-01],\n",
              "       [1.53104026e-01, 2.91919022e-01],\n",
              "       [2.90566324e-01, 2.75689517e-01],\n",
              "       [2.92541529e-01, 2.87927547e-01],\n",
              "       [2.52947438e-01, 2.67796284e-01],\n",
              "       [2.94689570e-01, 2.92020500e-01],\n",
              "       [1.12807682e-01, 2.65053139e-01],\n",
              "       [2.63766248e-01, 2.67530572e-01],\n",
              "       [2.85763984e-01, 2.94692147e-01],\n",
              "       [1.87874150e-01, 2.60375533e-01],\n",
              "       [2.79494587e-01, 2.93503840e-01],\n",
              "       [1.89150974e-01, 2.69557193e-01],\n",
              "       [1.68554473e-01, 2.73913360e-01],\n",
              "       [2.89343679e-01, 2.66333052e-01],\n",
              "       [2.76231746e-01, 2.71705623e-01],\n",
              "       [2.35850580e-01, 2.94166869e-01],\n",
              "       [2.88643387e-01, 2.89645013e-01],\n",
              "       [2.93638597e-01, 2.62635205e-01],\n",
              "       [2.39163932e-01, 2.82888436e-01],\n",
              "       [2.55081592e-01, 2.89122494e-01],\n",
              "       [2.90064661e-01, 2.94649602e-01],\n",
              "       [1.31747739e-01, 2.84831856e-01],\n",
              "       [2.91182342e-01, 2.77543608e-01],\n",
              "       [1.31789997e-01, 2.55979996e-01],\n",
              "       [1.35249751e-01, 2.21822032e-01],\n",
              "       [2.68400183e-01, 2.37912363e-01],\n",
              "       [2.67669491e-01, 1.64387300e-01],\n",
              "       [2.73685605e-01, 2.94206566e-01],\n",
              "       [1.20272949e-01, 2.90598176e-01],\n",
              "       [2.56511049e-01, 2.09104197e-01],\n",
              "       [2.22004236e-01, 2.35961233e-01],\n",
              "       [1.89312919e-01, 2.56145938e-01],\n",
              "       [1.80206828e-01, 2.79350419e-01],\n",
              "       [2.84304792e-01, 2.88877748e-01],\n",
              "       [1.48244980e-01, 2.17108953e-01],\n",
              "       [2.58447884e-01, 2.61188744e-01],\n",
              "       [2.16888734e-01, 1.32889886e-01],\n",
              "       [3.14843704e-02, 2.93227757e-01],\n",
              "       [2.90670741e-01, 2.74336394e-01],\n",
              "       [1.97172214e-01, 1.48166349e-01],\n",
              "       [2.07099156e-01, 2.92570055e-01],\n",
              "       [2.94579060e-01, 7.66203454e-02],\n",
              "       [2.94303360e-01, 3.28476014e-02],\n",
              "       [1.13215847e-01, 2.88932110e-01],\n",
              "       [2.56495524e-01, 2.30697933e-01],\n",
              "       [2.22535828e-01, 1.94686322e-01],\n",
              "       [2.89527390e-01, 2.94581427e-01],\n",
              "       [1.70949391e-01, 1.23088905e-01],\n",
              "       [1.98590928e-01, 2.80239519e-01],\n",
              "       [2.94156309e-01, 2.61138476e-01],\n",
              "       [2.87024626e-01, 2.94437204e-01],\n",
              "       [2.77023908e-01, 2.94604095e-01],\n",
              "       [2.80682960e-01, 1.41274663e-01],\n",
              "       [2.75005634e-01, 2.42497939e-01],\n",
              "       [2.20461360e-01, 2.28064658e-01],\n",
              "       [2.44524438e-01, 2.78966209e-01],\n",
              "       [1.08365371e-01, 2.56633805e-01],\n",
              "       [2.91268921e-01, 2.93540914e-01],\n",
              "       [2.52839733e-01, 2.56516232e-01],\n",
              "       [2.93925135e-01, 1.23909878e-01],\n",
              "       [2.57366483e-01, 2.82273051e-01],\n",
              "       [2.20305223e-01, 2.47067179e-01],\n",
              "       [1.69471369e-01, 2.00693423e-01],\n",
              "       [2.94179388e-01, 2.84046664e-01],\n",
              "       [2.52388036e-01, 2.73243051e-01],\n",
              "       [2.55956032e-01, 2.62253881e-01],\n",
              "       [2.73297032e-01, 2.66579387e-01],\n",
              "       [2.23096974e-01, 2.65202948e-01],\n",
              "       [2.80227467e-01, 1.75984480e-01],\n",
              "       [2.93036883e-01, 2.94534651e-01],\n",
              "       [9.10004802e-02, 1.77421801e-01],\n",
              "       [2.76790950e-01, 1.76748544e-01],\n",
              "       [2.72056195e-01, 2.94658624e-01],\n",
              "       [1.60404252e-01, 1.24823318e-01],\n",
              "       [2.14630345e-01, 2.53713716e-01],\n",
              "       [1.64305537e-02, 2.73847915e-01],\n",
              "       [2.01894261e-01, 2.82701260e-01],\n",
              "       [2.93540106e-01, 2.94593040e-01],\n",
              "       [1.54332923e-01, 2.91510109e-01],\n",
              "       [1.50364044e-01, 1.95880557e-01],\n",
              "       [2.36304511e-01, 2.62992222e-01],\n",
              "       [2.93491228e-01, 2.77226363e-01],\n",
              "       [2.62985155e-01, 1.80549194e-01],\n",
              "       [2.26696505e-01, 2.47359016e-01],\n",
              "       [2.90017181e-01, 2.94642206e-01],\n",
              "       [2.70617510e-01, 1.90373360e-01],\n",
              "       [2.08525108e-01, 2.91870534e-01],\n",
              "       [2.89292076e-01, 2.94523044e-01],\n",
              "       [2.73461292e-01, 2.91493955e-01],\n",
              "       [1.15578303e-01, 2.65718114e-01],\n",
              "       [2.79114147e-01, 1.66387105e-01],\n",
              "       [2.90350221e-01, 2.78777723e-01],\n",
              "       [2.75679349e-01, 2.49745280e-01],\n",
              "       [2.94556584e-01, 1.49558750e-01],\n",
              "       [2.94373538e-01, 2.66517932e-01],\n",
              "       [2.94541660e-01, 2.83656454e-01],\n",
              "       [1.24552425e-01, 1.80642880e-01],\n",
              "       [2.93206842e-01, 2.42603742e-01],\n",
              "       [1.71070789e-02, 1.54811577e-01],\n",
              "       [2.91399355e-01, 2.94658909e-01],\n",
              "       [1.28466845e-01, 2.93024488e-01],\n",
              "       [2.17461938e-01, 2.73610055e-01],\n",
              "       [1.95626725e-01, 2.51256181e-01],\n",
              "       [2.70392792e-01, 2.54540194e-01],\n",
              "       [2.72713124e-01, 2.77105911e-01],\n",
              "       [2.93285255e-01, 2.94081558e-01],\n",
              "       [1.96520018e-01, 2.56457412e-01],\n",
              "       [1.21161384e-01, 2.92674147e-01],\n",
              "       [2.89390700e-01, 2.86397169e-01],\n",
              "       [2.94645135e-01, 2.58755705e-01],\n",
              "       [1.62627511e-01, 2.62334404e-01],\n",
              "       [2.89688480e-01, 2.08548819e-01],\n",
              "       [2.82809596e-01, 2.83303418e-01],\n",
              "       [2.93069396e-01, 2.02109475e-01],\n",
              "       [2.21979231e-01, 2.87939718e-01],\n",
              "       [2.19292110e-01, 2.26269148e-01],\n",
              "       [2.47251810e-01, 2.66501545e-01],\n",
              "       [2.93011617e-01, 2.57752642e-01],\n",
              "       [2.82346637e-01, 1.63379668e-01],\n",
              "       [1.48014318e-01, 2.24523165e-01],\n",
              "       [2.55546872e-01, 2.64215734e-01],\n",
              "       [2.94628782e-01, 2.21460387e-01],\n",
              "       [2.54548884e-01, 2.26672546e-01],\n",
              "       [1.71670331e-01, 2.55346156e-01],\n",
              "       [2.42943662e-01, 2.89080508e-01],\n",
              "       [2.92409661e-01, 2.83009823e-01],\n",
              "       [2.18861098e-01, 2.92518009e-01],\n",
              "       [2.74550620e-01, 3.49857308e-02],\n",
              "       [1.69465837e-01, 2.45990651e-01],\n",
              "       [2.90497267e-01, 2.38611948e-01],\n",
              "       [2.93958709e-01, 2.61426388e-01],\n",
              "       [1.91947702e-01, 2.44377235e-01],\n",
              "       [2.72590899e-01, 2.93591461e-01],\n",
              "       [2.55794233e-01, 2.62354737e-01],\n",
              "       [2.80937436e-01, 2.33435984e-01],\n",
              "       [1.94550536e-01, 1.22232323e-01],\n",
              "       [2.81290987e-01, 2.80829091e-01],\n",
              "       [2.93952685e-01, 2.44867479e-01],\n",
              "       [2.76903928e-01, 1.74853758e-01],\n",
              "       [2.36771026e-01, 2.74366776e-01],\n",
              "       [2.94471450e-01, 1.93747070e-01],\n",
              "       [2.85066979e-01, 1.39776332e-01],\n",
              "       [2.72754134e-01, 2.94557391e-01],\n",
              "       [2.89414160e-01, 2.39889315e-01],\n",
              "       [2.92402207e-01, 2.27454461e-01],\n",
              "       [2.45211543e-01, 2.60599547e-01],\n",
              "       [2.85390190e-01, 1.57496572e-01],\n",
              "       [2.60898066e-01, 2.94161042e-01],\n",
              "       [2.94175121e-01, 2.68180556e-01],\n",
              "       [2.87883751e-01, 2.68076070e-01],\n",
              "       [6.16721397e-02, 2.90738104e-01],\n",
              "       [1.09148901e-01, 2.60088754e-01],\n",
              "       [2.50711450e-01, 1.77399387e-01],\n",
              "       [2.18380723e-01, 2.92842812e-01],\n",
              "       [6.74633207e-02, 2.79034682e-01],\n",
              "       [1.95250763e-01, 2.80510753e-01],\n",
              "       [2.75861961e-01, 1.69212877e-01],\n",
              "       [2.80959056e-01, 2.78927992e-01],\n",
              "       [1.63945590e-01, 2.93711583e-01],\n",
              "       [1.67972271e-01, 1.68068348e-01],\n",
              "       [2.88076179e-01, 2.91005956e-01],\n",
              "       [2.12045037e-01, 2.94383616e-01],\n",
              "       [2.30433964e-01, 2.93545134e-01],\n",
              "       [2.52776363e-01, 2.87736963e-01],\n",
              "       [1.86849739e-01, 2.85160357e-01],\n",
              "       [2.86679352e-01, 2.87047241e-01],\n",
              "       [2.73606249e-01, 1.85423163e-01],\n",
              "       [1.39537209e-01, 2.71474292e-01],\n",
              "       [2.93640261e-01, 1.29229512e-01],\n",
              "       [2.01592834e-01, 6.33414333e-02],\n",
              "       [2.81561585e-01, 2.88329765e-01],\n",
              "       [2.25759836e-01, 2.78801586e-01],\n",
              "       [2.87765608e-01, 2.35638541e-01],\n",
              "       [2.13443808e-01, 2.53056545e-01],\n",
              "       [2.80716858e-01, 2.50863978e-01],\n",
              "       [2.40804042e-01, 1.82561213e-01],\n",
              "       [2.39066785e-01, 2.85584775e-01],\n",
              "       [1.00847997e-01, 6.69347862e-02],\n",
              "       [2.88948243e-01, 2.20239092e-01],\n",
              "       [1.13488340e-01, 2.73246079e-01],\n",
              "       [2.84392609e-01, 1.78641631e-01],\n",
              "       [2.52257409e-01, 1.49983875e-01],\n",
              "       [2.21048326e-01, 2.93340163e-01],\n",
              "       [2.75227457e-01, 2.93346501e-01],\n",
              "       [2.16212158e-01, 2.42624452e-01],\n",
              "       [2.94550720e-01, 2.88020993e-01],\n",
              "       [2.37776204e-01, 2.19655644e-01],\n",
              "       [2.92361019e-01, 2.90195164e-01],\n",
              "       [1.88674332e-01, 2.56187152e-01],\n",
              "       [2.32064606e-01, 1.82700986e-01],\n",
              "       [2.55290035e-01, 2.85946768e-01],\n",
              "       [2.18558244e-01, 2.90981135e-01],\n",
              "       [2.79279179e-01, 2.30584425e-01],\n",
              "       [2.74146308e-01, 2.57641231e-01],\n",
              "       [2.44643491e-01, 2.61633614e-01],\n",
              "       [2.87699249e-01, 2.44639689e-01],\n",
              "       [2.91535427e-01, 1.91561584e-01],\n",
              "       [2.69169484e-01, 2.50417661e-01],\n",
              "       [2.58913687e-01, 2.01607023e-01],\n",
              "       [2.85572859e-01, 2.85108411e-01],\n",
              "       [2.85164268e-01, 2.94642943e-01],\n",
              "       [2.94417651e-01, 2.17109717e-01],\n",
              "       [1.99364900e-01, 2.18866025e-01],\n",
              "       [2.29539212e-01, 1.07392681e-01],\n",
              "       [1.70946436e-01, 2.24506115e-01],\n",
              "       [2.89481856e-01, 1.26558948e-01],\n",
              "       [2.42086739e-01, 2.36411298e-01],\n",
              "       [7.87128185e-02, 2.83047472e-01],\n",
              "       [2.53570009e-01, 2.91956723e-01],\n",
              "       [1.12090017e-01, 2.78470577e-01],\n",
              "       [2.94528979e-01, 1.95443219e-01],\n",
              "       [2.41116025e-01, 2.67604048e-01],\n",
              "       [2.63677070e-01, 2.77374458e-01],\n",
              "       [2.49415443e-01, 2.62543114e-01],\n",
              "       [2.16612558e-01, 2.87046792e-01],\n",
              "       [2.85766626e-01, 2.51569603e-01],\n",
              "       [2.16633170e-01, 2.74364356e-01],\n",
              "       [2.93887209e-01, 2.94114560e-01],\n",
              "       [2.87949198e-01, 2.65912338e-01],\n",
              "       [2.94684492e-01, 2.94548857e-01],\n",
              "       [2.79847123e-01, 2.93143433e-01],\n",
              "       [2.94681684e-01, 2.20184412e-01],\n",
              "       [2.77807376e-01, 2.53691733e-01],\n",
              "       [2.81415591e-01, 2.50926444e-01],\n",
              "       [2.91860117e-01, 2.88945662e-01],\n",
              "       [2.79116442e-01, 2.76067344e-01],\n",
              "       [2.93675087e-01, 2.40452692e-01],\n",
              "       [9.13501558e-02, 1.39849014e-01],\n",
              "       [2.20269615e-01, 4.86543593e-05],\n",
              "       [3.96782978e-08, 2.91900001e-15],\n",
              "       [1.42034079e-01, 2.72290828e-01],\n",
              "       [8.38717586e-05, 9.49024319e-04],\n",
              "       [2.39928434e-11, 1.85680843e-01],\n",
              "       [2.68974021e-03, 2.61046153e-02],\n",
              "       [1.22865368e-11, 1.27281180e-11]])"
            ]
          },
          "execution_count": 15,
          "metadata": {},
          "output_type": "execute_result"
        }
      ],
      "source": [
        "P"
      ]
    },
    {
      "cell_type": "code",
      "execution_count": null,
      "metadata": {
        "id": "jhqyN5aY84r6"
      },
      "outputs": [],
      "source": [
        "pval = np.zeros((Xval.shape[0], Xval.shape[1]))\n",
        "pval[:,0] = stats.norm.pdf(Xval[:,0], loc=x1_mean, scale=np.sqrt(x1_var))\n",
        "pval[:,1] = stats.norm.pdf(Xval[:,1], loc=x2_mean, scale=np.sqrt(x2_var))"
      ]
    },
    {
      "cell_type": "code",
      "execution_count": null,
      "metadata": {
        "colab": {
          "base_uri": "https://localhost:8080/"
        },
        "id": "3Crk5ZK-FuNd",
        "outputId": "4e3f2a90-667f-44fd-c6a7-f82cbb03f81b"
      },
      "outputs": [
        {
          "name": "stdout",
          "output_type": "stream",
          "text": [
            "5.810923665605239e-13\n",
            "0.30510142489030334\n"
          ]
        },
        {
          "data": {
            "text/plain": [
              "array([0.30457725, 0.29540963, 0.16132253, 0.22661829, 0.27090007,\n",
              "       0.20830726, 0.30231612, 0.28875122, 0.26524155, 0.30426236])"
            ]
          },
          "execution_count": 13,
          "metadata": {},
          "output_type": "execute_result"
        }
      ],
      "source": [
        "print(pval[:,1].min())\n",
        "print(pval[:,1].max())\n",
        "pval[:10, 1]"
      ]
    },
    {
      "cell_type": "code",
      "execution_count": null,
      "metadata": {
        "id": "R6RuoEgv9pp3"
      },
      "outputs": [],
      "source": [
        "from sklearn.metrics import f1_score\n",
        "def select_threshold(pval, yval):\n",
        "  bf1 = 0\n",
        "  bthres = 0\n",
        "  for tres in np.linspace(pval.min(), pval.max(), 10000).tolist():\n",
        "    t = pval <= tres\n",
        "    y = np.logical_or(t[:,0],t[:,1])\n",
        "    f1 = f1_score(yval, y)\n",
        "    if f1 > bf1:\n",
        "      bf1 = f1\n",
        "      bthres = tres\n",
        "  return bthres, bf1"
      ]
    },
    {
      "cell_type": "code",
      "execution_count": null,
      "metadata": {
        "colab": {
          "base_uri": "https://localhost:8080/"
        },
        "id": "xS61OCC__hNs",
        "outputId": "a94686df-fe26-424f-edd9-87714fa7571a"
      },
      "outputs": [
        {
          "data": {
            "text/plain": [
              "(0.0003966715195093453, 0.8750000000000001)"
            ]
          },
          "execution_count": 91,
          "metadata": {},
          "output_type": "execute_result"
        }
      ],
      "source": [
        "best_epsilon, best_f1 = select_threshold(pval, yval)\n",
        "best_epsilon, best_f1"
      ]
    },
    {
      "cell_type": "code",
      "execution_count": null,
      "metadata": {
        "colab": {
          "base_uri": "https://localhost:8080/"
        },
        "id": "OW-9FtdEEG-R",
        "outputId": "778b33b9-e596-4912-cb46-321a70bf00c7"
      },
      "outputs": [
        {
          "name": "stdout",
          "output_type": "stream",
          "text": [
            "(array([300, 301, 303, 304, 306]),) [0 0 0 0 0 0 0 0 0 0 0 0 0 0 0 0 0 0 0 0 0 0 0 0 0 0 0 0 0 0 0 0 0 0 0 0 0\n",
            " 0 0 0 0 0 0 0 0 0 0 0 0 0 0 0 0 0 0 0 0 0 0 0 0 0 0 0 0 0 0 0 0 0 0 0 0 0\n",
            " 0 0 0 0 0 0 0 0 0 0 0 0 0 0 0 0 0 0 0 0 0 0 0 0 0 0 0 0 0 0 0 0 0 0 0 0 0\n",
            " 0 0 0 0 0 0 0 0 0 0 0 0 0 0 0 0 0 0 0 0 0 0 0 0 0 0 0 0 0 0 0 0 0 0 0 0 0\n",
            " 0 0 0 0 0 0 0 0 0 0 0 0 0 0 0 0 0 0 0 0 0 0 0 0 0 0 0 0 0 0 0 0 0 0 0 0 0\n",
            " 0 0 0 0 0 0 0 0 0 0 0 0 0 0 0 0 0 0 0 0 0 0 0 0 0 0 0 0 0 0 0 0 0 0 0 0 0\n",
            " 0 0 0 0 0 0 0 0 0 0 0 0 0 0 0 0 0 0 0 0 0 0 0 0 0 0 0 0 0 0 0 0 0 0 0 0 0\n",
            " 0 0 0 0 0 0 0 0 0 0 0 0 0 0 0 0 0 0 0 0 0 0 0 0 0 0 0 0 0 0 0 0 0 0 0 0 0\n",
            " 0 0 0 0 1 1 0 1 1 0 1]\n"
          ]
        }
      ],
      "source": [
        "t1 = p_X1 < best_epsilon\n",
        "t2 = p_X2 < best_epsilon\n",
        "y = np.logical_or(t1,t2).astype(int)\n",
        "anomalies = np.where(y == 1)\n",
        "print(anomalies, y)\n",
        "AN = np.zeros((anomalies[0].shape[0], 2))\n",
        "for ii in range (0, anomalies[0].shape[0]):\n",
        "    AN[ii, 0] = X[anomalies[0][ii], 0]\n",
        "    AN[ii, 1] = X[anomalies[0][ii], 1]"
      ]
    },
    {
      "cell_type": "code",
      "execution_count": null,
      "metadata": {
        "colab": {
          "base_uri": "https://localhost:8080/",
          "height": 313
        },
        "id": "vnu3CS1uEtkT",
        "outputId": "74a48fb1-f4c2-4678-dd58-745859242c92"
      },
      "outputs": [
        {
          "data": {
            "text/plain": [
              "Text(0.5, 1.0, 'Final result')"
            ]
          },
          "execution_count": 93,
          "metadata": {},
          "output_type": "execute_result"
        },
        {
          "data": {
            "image/png": "[encoded data removed]",
            "text/plain": [
              "<Figure size 432x288 with 1 Axes>"
            ]
          },
          "metadata": {},
          "output_type": "display_data"
        }
      ],
      "source": [
        "plt.scatter(X[:,0], X[:,1])\n",
        "plt.scatter(AN[:,0], AN[:,1], s=200, facecolors='none', edgecolors='r')\n",
        "plt.xlabel('latency')\n",
        "plt.ylabel('throughput')\n",
        "plt.title('Final result')"
      ]
    }
  ],
  "metadata": {
    "accelerator": "GPU",
    "colab": {
      "provenance": []
    },
    "kernelspec": {
      "display_name": "Python 3",
      "name": "python3"
    },
    "language_info": {
      "name": "python"
    }
  },
  "nbformat": 4,
  "nbformat_minor": 0
}