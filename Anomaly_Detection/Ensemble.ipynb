{
 "cells": [
  {
   "cell_type": "code",
   "execution_count": 15,
   "metadata": {},
   "outputs": [],
   "source": [
    "import numpy as np\n",
    "import matplotlib.pyplot as plt\n",
    "from sklearn.datasets import load_wine\n",
    "import sklearn\n",
    "from sklearn import tree\n",
    "from sklearn.model_selection import train_test_split\n",
    "from sklearn.model_selection import cross_val_score\n",
    "from sklearn import metrics\n",
    "from sklearn.tree import DecisionTreeClassifier\n",
    "data = load_wine()"
   ]
  },
  {
   "cell_type": "code",
   "execution_count": 16,
   "metadata": {},
   "outputs": [
    {
     "name": "stdout",
     "output_type": "stream",
     "text": [
      "Accuracy: 0.9259259259259259\n",
      "Decison tree scores:  [0.92       0.92       0.92       1.         0.95833333] avg:  0.9436666666666668\n"
     ]
    }
   ],
   "source": [
    "X_train, X_test, y_train, y_test = train_test_split(data.data, data.target, test_size=0.30, random_state=45)\n",
    "classifier = tree.DecisionTreeClassifier(min_samples_leaf=3, random_state=1)\n",
    "classifier = classifier.fit(X_train, y_train)\n",
    "prediction = classifier.predict(X_test)\n",
    "\n",
    "cross_val = cross_val_score(classifier,X_train,y_train, cv=5)\n",
    "print(\"Accuracy:\" ,  metrics.accuracy_score(y_test, classifier.predict(X_test)))\n",
    "print(\"Decison tree scores: \", cross_val, \"avg: \", np.mean(cross_val))"
   ]
  },
  {
   "cell_type": "code",
   "execution_count": 17,
   "metadata": {},
   "outputs": [
    {
     "name": "stdout",
     "output_type": "stream",
     "text": [
      "Accuracy: 0.9629629629629629\n",
      "Bagging scores:  [0.92       0.92       1.         1.         0.91666667] avg:  0.9513333333333334\n"
     ]
    }
   ],
   "source": [
    "from sklearn.ensemble import BaggingClassifier\n",
    "from sklearn.svm import SVC\n",
    "\n",
    "clf = BaggingClassifier(base_estimator = DecisionTreeClassifier(min_samples_leaf=3, random_state=1),  random_state=1, n_estimators=50).fit(X_train, y_train)\n",
    "print(\"Accuracy:\" ,  metrics.accuracy_score(y_test, clf.predict(X_test)))\n",
    "cross_val = cross_val_score(clf,X_train,y_train, cv=5)\n",
    "print(\"Bagging scores: \", cross_val, \"avg: \", np.mean(cross_val))"
   ]
  },
  {
   "cell_type": "code",
   "execution_count": 18,
   "metadata": {},
   "outputs": [
    {
     "name": "stdout",
     "output_type": "stream",
     "text": [
      "Accuracy: 0.9629629629629629\n",
      "AdaBoost scores:  [0.96       0.92       0.96       1.         0.95833333] avg:  0.9596666666666666\n"
     ]
    }
   ],
   "source": [
    "from sklearn.ensemble import AdaBoostClassifier\n",
    "clf = AdaBoostClassifier(base_estimator = DecisionTreeClassifier(min_samples_leaf=3, random_state=1),n_estimators=50, random_state=1, algorithm='SAMME').fit(X_train, y_train)\n",
    "print(\"Accuracy:\" ,  metrics.accuracy_score(y_test, clf.predict(X_test)))\n",
    "cross_val = cross_val_score(clf,X_train,y_train, cv=5)\n",
    "print(\"AdaBoost scores: \", cross_val, \"avg: \", np.mean(cross_val))"
   ]
  },
  {
   "cell_type": "code",
   "execution_count": 19,
   "metadata": {},
   "outputs": [
    {
     "name": "stdout",
     "output_type": "stream",
     "text": [
      "Accuracy: 0.9814814814814815\n",
      "AdaBoost scores:  [0.96       0.92       0.92       1.         0.95833333] avg:  0.9516666666666665\n"
     ]
    }
   ],
   "source": [
    "from sklearn.ensemble import GradientBoostingClassifier\n",
    "clf = GradientBoostingClassifier(n_estimators=50, learning_rate=1.0, max_depth=1, random_state=0, subsample=0.5, min_samples_leaf=3).fit(X_train, y_train)\n",
    "print(\"Accuracy:\" ,  metrics.accuracy_score(y_test, clf.predict(X_test)))\n",
    "cross_val = cross_val_score(clf,X_train,y_train, cv=5)\n",
    "print(\"AdaBoost scores: \", cross_val, \"avg: \", np.mean(cross_val))"
   ]
  },
  {
   "cell_type": "code",
   "execution_count": 20,
   "metadata": {},
   "outputs": [
    {
     "data": {
      "image/png": "[encoded data removed]",
      "text/plain": [
       "<Figure size 648x360 with 1 Axes>"
      ]
     },
     "metadata": {
      "needs_background": "light"
     },
     "output_type": "display_data"
    }
   ],
   "source": [
    "cumsum = np.cumsum(clf.oob_improvement_)\n",
    "plt.figure(figsize=(9,5))\n",
    "x_val = np.linspace(0,len(cumsum), 50)\n",
    "plt.plot(x_val, cumsum)\n",
    "plt.grid()\n",
    "plt.show()"
   ]
  }
 ],
 "metadata": {
  "kernelspec": {
   "display_name": "base",
   "language": "python",
   "name": "python3"
  },
  "language_info": {
   "codemirror_mode": {
    "name": "ipython",
    "version": 3
   },
   "file_extension": ".py",
   "mimetype": "text/x-python",
   "name": "python",
   "nbconvert_exporter": "python",
   "pygments_lexer": "ipython3",
   "version": "3.9.12"
  },
  "orig_nbformat": 4
 },
 "nbformat": 4,
 "nbformat_minor": 2
}
