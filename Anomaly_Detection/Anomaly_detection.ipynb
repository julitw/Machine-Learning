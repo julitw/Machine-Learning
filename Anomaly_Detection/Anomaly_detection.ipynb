{
 "cells": [
  {
   "cell_type": "code",
   "execution_count": 51,
   "metadata": {},
   "outputs": [],
   "source": [
    "import numpy as np\n",
    "import pandas as pd\n",
    "import matplotlib.pyplot as plt\n",
    "from scipy.io import loadmat"
   ]
  },
  {
   "cell_type": "code",
   "execution_count": 52,
   "metadata": {},
   "outputs": [
    {
     "name": "stdout",
     "output_type": "stream",
     "text": [
      "(307, 2)\n"
     ]
    },
    {
     "data": {
      "image/png": "[encoded data removed]",
      "text/plain": [
       "<Figure size 432x288 with 1 Axes>"
      ]
     },
     "metadata": {
      "needs_background": "light"
     },
     "output_type": "display_data"
    },
    {
     "data": {
      "image/png": "[encoded data removed]",
      "text/plain": [
       "<Figure size 432x288 with 1 Axes>"
      ]
     },
     "metadata": {
      "needs_background": "light"
     },
     "output_type": "display_data"
    }
   ],
   "source": [
    "data = loadmat('ex8data1.mat')\n",
    "X = data['X']\n",
    "print(X.shape)\n",
    "plt.scatter(X[:,0],X[:,1])\n",
    "plt.show()\n",
    "plt.hist(X)\n",
    "plt.show()"
   ]
  },
  {
   "cell_type": "code",
   "execution_count": 53,
   "metadata": {},
   "outputs": [
    {
     "data": {
      "text/plain": [
       "([14.112225783945592, 14.99771050813621],\n",
       " [1.353747174879607, 1.3075723042450764])"
      ]
     },
     "execution_count": 53,
     "metadata": {},
     "output_type": "execute_result"
    }
   ],
   "source": [
    "def calculate_gaussian(X):\n",
    "    mu = []\n",
    "    sigma =[]\n",
    "    for i in range(X.shape[1]):\n",
    "        mu.append(np.mean(X[:,i]))\n",
    "        sigma.append(np.std(X[:,i]))\n",
    "    return mu, sigma\n",
    "        \n",
    "calculate_gaussian(X)"
   ]
  },
  {
   "cell_type": "code",
   "execution_count": 54,
   "metadata": {},
   "outputs": [
    {
     "name": "stdout",
     "output_type": "stream",
     "text": [
      "(307, 2) (307, 1)\n"
     ]
    }
   ],
   "source": [
    "Xval = data['Xval']\n",
    "yval = data['yval']\n",
    "\n",
    "print(Xval.shape, yval.shape)"
   ]
  },
  {
   "cell_type": "code",
   "execution_count": 55,
   "metadata": {},
   "outputs": [
    {
     "data": {
      "text/plain": [
       "array([0.20140987, 0.30075324, 0.42784855, 0.31669041, 0.34428372,\n",
       "       0.41041232, 0.14554882, 0.12037962, 0.04576793, 0.11232379,\n",
       "       0.41745239, 0.42371815, 0.29568993, 0.29667562, 0.41689509,\n",
       "       0.42771763, 0.41507106, 0.41059368, 0.39142762, 0.0324931 ,\n",
       "       0.33748993, 0.41762067, 0.30194167, 0.42683584, 0.20187842,\n",
       "       0.12905488, 0.35479384, 0.34199731, 0.38992236, 0.4065998 ,\n",
       "       0.15337102, 0.41649004, 0.17727405, 0.16102616, 0.06230589,\n",
       "       0.31362684, 0.07715998, 0.42505859, 0.39942598, 0.42761572,\n",
       "       0.40223422, 0.22102112, 0.40346303, 0.42783451, 0.36511346,\n",
       "       0.39763696, 0.06510954, 0.42683462, 0.39944649, 0.18105687])"
      ]
     },
     "execution_count": 55,
     "metadata": {},
     "output_type": "execute_result"
    }
   ],
   "source": [
    "from scipy import stats\n",
    "stats.norm.pdf(X[:50, 0],np.mean(X[:50, 0]),np.std(X[:50,0]))"
   ]
  },
  {
   "cell_type": "code",
   "execution_count": 56,
   "metadata": {},
   "outputs": [],
   "source": [
    "pval = np.zeros((Xval.shape[0], Xval.shape[1]))\n",
    "pval[:,0] = stats.norm.pdf(Xval[:,0], loc=np.mean(Xval[:,0]), scale=np.std(Xval[:,0]))\n",
    "pval[:,1] =  stats.norm.pdf(Xval[:,1], loc=np.mean(Xval[:,0]), scale=np.std(Xval[:,1]))"
   ]
  },
  {
   "cell_type": "code",
   "execution_count": 57,
   "metadata": {},
   "outputs": [
    {
     "name": "stdout",
     "output_type": "stream",
     "text": [
      "7.140328810102403e-13\n",
      "0.3128581393860527\n"
     ]
    },
    {
     "data": {
      "text/plain": [
       "array([0.24364656, 0.18447606, 0.04906243, 0.31277169, 0.14014751,\n",
       "       0.07847011, 0.20751005, 0.16941127, 0.30506032, 0.24638166])"
      ]
     },
     "execution_count": 57,
     "metadata": {},
     "output_type": "execute_result"
    }
   ],
   "source": [
    "print(pval[:,1].min())\n",
    "print(pval[:,1].max())\n",
    "pval[:10, 1]"
   ]
  },
  {
   "cell_type": "code",
   "execution_count": 58,
   "metadata": {},
   "outputs": [],
   "source": [
    "from sklearn.metrics import f1_score\n",
    "def select_threshold(pval, yval):\n",
    "  bf1 = 0\n",
    "  bthres = 0\n",
    "  for tres in np.linspace(pval.min(), pval.max(), 10000).tolist():\n",
    "    t = pval <= tres\n",
    "    y = np.logical_or(t[:,0],t[:,1])\n",
    "    f1 = f1_score(yval, y)\n",
    "    if f1 > bf1:\n",
    "      bf1 = f1\n",
    "      bthres = tres\n",
    "  return bthres, bf1"
   ]
  },
  {
   "cell_type": "code",
   "execution_count": 59,
   "metadata": {},
   "outputs": [
    {
     "data": {
      "text/plain": [
       "(0.001720891855808871, 0.823529411764706)"
      ]
     },
     "execution_count": 59,
     "metadata": {},
     "output_type": "execute_result"
    }
   ],
   "source": [
    "best_epsilon, best_f1 = select_threshold(pval, yval)\n",
    "best_epsilon, best_f1"
   ]
  },
  {
   "cell_type": "code",
   "execution_count": 74,
   "metadata": {},
   "outputs": [
    {
     "name": "stdout",
     "output_type": "stream",
     "text": [
      "(array([246, 300, 301, 302, 303, 304, 305, 306], dtype=int64),) [0 0 0 0 0 0 0 0 0 0 0 0 0 0 0 0 0 0 0 0 0 0 0 0 0 0 0 0 0 0 0 0 0 0 0 0 0\n",
      " 0 0 0 0 0 0 0 0 0 0 0 0 0 0 0 0 0 0 0 0 0 0 0 0 0 0 0 0 0 0 0 0 0 0 0 0 0\n",
      " 0 0 0 0 0 0 0 0 0 0 0 0 0 0 0 0 0 0 0 0 0 0 0 0 0 0 0 0 0 0 0 0 0 0 0 0 0\n",
      " 0 0 0 0 0 0 0 0 0 0 0 0 0 0 0 0 0 0 0 0 0 0 0 0 0 0 0 0 0 0 0 0 0 0 0 0 0\n",
      " 0 0 0 0 0 0 0 0 0 0 0 0 0 0 0 0 0 0 0 0 0 0 0 0 0 0 0 0 0 0 0 0 0 0 0 0 0\n",
      " 0 0 0 0 0 0 0 0 0 0 0 0 0 0 0 0 0 0 0 0 0 0 0 0 0 0 0 0 0 0 0 0 0 0 0 0 0\n",
      " 0 0 0 0 0 0 0 0 0 0 0 0 0 0 0 0 0 0 0 0 0 0 0 0 1 0 0 0 0 0 0 0 0 0 0 0 0\n",
      " 0 0 0 0 0 0 0 0 0 0 0 0 0 0 0 0 0 0 0 0 0 0 0 0 0 0 0 0 0 0 0 0 0 0 0 0 0\n",
      " 0 0 0 0 1 1 1 1 1 1 1]\n"
     ]
    }
   ],
   "source": [
    "t1 = pval[:,0] < best_epsilon\n",
    "t2 = pval[:,1] < best_epsilon\n",
    "y = np.logical_or(t1,t2).astype(int)\n",
    "anomalies = np.where(y == 1)\n",
    "print(anomalies, y)\n",
    "AN = np.zeros((anomalies[0].shape[0], 2))\n",
    "for ii in range (0, anomalies[0].shape[0]):\n",
    "    AN[ii, 0] = X[anomalies[0][ii], 0]\n",
    "    AN[ii, 1] = X[anomalies[0][ii], 1]"
   ]
  },
  {
   "cell_type": "code",
   "execution_count": 75,
   "metadata": {},
   "outputs": [
    {
     "data": {
      "text/plain": [
       "Text(0.5, 1.0, 'Final result')"
      ]
     },
     "execution_count": 75,
     "metadata": {},
     "output_type": "execute_result"
    },
    {
     "data": {
      "image/png": "[encoded data removed]",
      "text/plain": [
       "<Figure size 432x288 with 1 Axes>"
      ]
     },
     "metadata": {
      "needs_background": "light"
     },
     "output_type": "display_data"
    }
   ],
   "source": [
    "plt.scatter(X[:,0], X[:,1])\n",
    "plt.scatter(AN[:,0], AN[:,1], s=200, facecolors='none', edgecolors='r')\n",
    "plt.xlabel('latency')\n",
    "plt.ylabel('throughput')\n",
    "plt.title('Final result')"
   ]
  }
 ],
 "metadata": {
  "kernelspec": {
   "display_name": "base",
   "language": "python",
   "name": "python3"
  },
  "language_info": {
   "codemirror_mode": {
    "name": "ipython",
    "version": 3
   },
   "file_extension": ".py",
   "mimetype": "text/x-python",
   "name": "python",
   "nbconvert_exporter": "python",
   "pygments_lexer": "ipython3",
   "version": "3.9.12"
  },
  "orig_nbformat": 4
 },
 "nbformat": 4,
 "nbformat_minor": 2
}
