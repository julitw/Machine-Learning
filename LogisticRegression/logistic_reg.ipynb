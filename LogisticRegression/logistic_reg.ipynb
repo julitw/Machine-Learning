{
 "cells": [
  {
   "cell_type": "code",
   "execution_count": 51,
   "metadata": {},
   "outputs": [],
   "source": [
    "import numpy as np\n",
    "import pandas as pd\n",
    "import matplotlib.pyplot as plt\n",
    " \n",
    "import os\n",
    "path = os.getcwd() + '/ex2data1.txt'\n",
    "data = pd.read_csv(path, header=None, names=['Exam 1', 'Exam 2', 'Admitted'])"
   ]
  },
  {
   "cell_type": "code",
   "execution_count": 52,
   "metadata": {},
   "outputs": [
    {
     "data": {
      "text/html": [
       "<div>\n",
       "<style scoped>\n",
       "    .dataframe tbody tr th:only-of-type {\n",
       "        vertical-align: middle;\n",
       "    }\n",
       "\n",
       "    .dataframe tbody tr th {\n",
       "        vertical-align: top;\n",
       "    }\n",
       "\n",
       "    .dataframe thead th {\n",
       "        text-align: right;\n",
       "    }\n",
       "</style>\n",
       "<table border=\"1\" class=\"dataframe\">\n",
       "  <thead>\n",
       "    <tr style=\"text-align: right;\">\n",
       "      <th></th>\n",
       "      <th>Exam 1</th>\n",
       "      <th>Exam 2</th>\n",
       "      <th>Admitted</th>\n",
       "    </tr>\n",
       "  </thead>\n",
       "  <tbody>\n",
       "    <tr>\n",
       "      <th>0</th>\n",
       "      <td>34.623660</td>\n",
       "      <td>78.024693</td>\n",
       "      <td>0</td>\n",
       "    </tr>\n",
       "    <tr>\n",
       "      <th>1</th>\n",
       "      <td>30.286711</td>\n",
       "      <td>43.894998</td>\n",
       "      <td>0</td>\n",
       "    </tr>\n",
       "    <tr>\n",
       "      <th>2</th>\n",
       "      <td>35.847409</td>\n",
       "      <td>72.902198</td>\n",
       "      <td>0</td>\n",
       "    </tr>\n",
       "    <tr>\n",
       "      <th>3</th>\n",
       "      <td>60.182599</td>\n",
       "      <td>86.308552</td>\n",
       "      <td>1</td>\n",
       "    </tr>\n",
       "    <tr>\n",
       "      <th>4</th>\n",
       "      <td>79.032736</td>\n",
       "      <td>75.344376</td>\n",
       "      <td>1</td>\n",
       "    </tr>\n",
       "  </tbody>\n",
       "</table>\n",
       "</div>"
      ],
      "text/plain": [
       "      Exam 1     Exam 2  Admitted\n",
       "0  34.623660  78.024693         0\n",
       "1  30.286711  43.894998         0\n",
       "2  35.847409  72.902198         0\n",
       "3  60.182599  86.308552         1\n",
       "4  79.032736  75.344376         1"
      ]
     },
     "execution_count": 52,
     "metadata": {},
     "output_type": "execute_result"
    }
   ],
   "source": [
    "data.head()"
   ]
  },
  {
   "cell_type": "code",
   "execution_count": 53,
   "metadata": {},
   "outputs": [
    {
     "data": {
      "text/plain": [
       "(100, 3)"
      ]
     },
     "execution_count": 53,
     "metadata": {},
     "output_type": "execute_result"
    }
   ],
   "source": [
    "data.shape"
   ]
  },
  {
   "cell_type": "code",
   "execution_count": 54,
   "metadata": {},
   "outputs": [
    {
     "data": {
      "text/html": [
       "<div>\n",
       "<style scoped>\n",
       "    .dataframe tbody tr th:only-of-type {\n",
       "        vertical-align: middle;\n",
       "    }\n",
       "\n",
       "    .dataframe tbody tr th {\n",
       "        vertical-align: top;\n",
       "    }\n",
       "\n",
       "    .dataframe thead th {\n",
       "        text-align: right;\n",
       "    }\n",
       "</style>\n",
       "<table border=\"1\" class=\"dataframe\">\n",
       "  <thead>\n",
       "    <tr style=\"text-align: right;\">\n",
       "      <th></th>\n",
       "      <th>Exam 1</th>\n",
       "      <th>Exam 2</th>\n",
       "      <th>Admitted</th>\n",
       "    </tr>\n",
       "  </thead>\n",
       "  <tbody>\n",
       "    <tr>\n",
       "      <th>count</th>\n",
       "      <td>100.000000</td>\n",
       "      <td>100.000000</td>\n",
       "      <td>100.000000</td>\n",
       "    </tr>\n",
       "    <tr>\n",
       "      <th>mean</th>\n",
       "      <td>65.644274</td>\n",
       "      <td>66.221998</td>\n",
       "      <td>0.600000</td>\n",
       "    </tr>\n",
       "    <tr>\n",
       "      <th>std</th>\n",
       "      <td>19.458222</td>\n",
       "      <td>18.582783</td>\n",
       "      <td>0.492366</td>\n",
       "    </tr>\n",
       "    <tr>\n",
       "      <th>min</th>\n",
       "      <td>30.058822</td>\n",
       "      <td>30.603263</td>\n",
       "      <td>0.000000</td>\n",
       "    </tr>\n",
       "    <tr>\n",
       "      <th>25%</th>\n",
       "      <td>50.919511</td>\n",
       "      <td>48.179205</td>\n",
       "      <td>0.000000</td>\n",
       "    </tr>\n",
       "    <tr>\n",
       "      <th>50%</th>\n",
       "      <td>67.032988</td>\n",
       "      <td>67.682381</td>\n",
       "      <td>1.000000</td>\n",
       "    </tr>\n",
       "    <tr>\n",
       "      <th>75%</th>\n",
       "      <td>80.212529</td>\n",
       "      <td>79.360605</td>\n",
       "      <td>1.000000</td>\n",
       "    </tr>\n",
       "    <tr>\n",
       "      <th>max</th>\n",
       "      <td>99.827858</td>\n",
       "      <td>98.869436</td>\n",
       "      <td>1.000000</td>\n",
       "    </tr>\n",
       "  </tbody>\n",
       "</table>\n",
       "</div>"
      ],
      "text/plain": [
       "           Exam 1      Exam 2    Admitted\n",
       "count  100.000000  100.000000  100.000000\n",
       "mean    65.644274   66.221998    0.600000\n",
       "std     19.458222   18.582783    0.492366\n",
       "min     30.058822   30.603263    0.000000\n",
       "25%     50.919511   48.179205    0.000000\n",
       "50%     67.032988   67.682381    1.000000\n",
       "75%     80.212529   79.360605    1.000000\n",
       "max     99.827858   98.869436    1.000000"
      ]
     },
     "execution_count": 54,
     "metadata": {},
     "output_type": "execute_result"
    }
   ],
   "source": [
    "data.describe()"
   ]
  },
  {
   "cell_type": "code",
   "execution_count": 55,
   "metadata": {},
   "outputs": [
    {
     "name": "stdout",
     "output_type": "stream",
     "text": [
      "(2, 100)\n",
      "(1, 100)\n"
     ]
    }
   ],
   "source": [
    "X = data.values[:, :2].T\n",
    "y = data.values[:, 2:].T\n",
    "print(X.shape)\n",
    "print(y.shape)"
   ]
  },
  {
   "cell_type": "code",
   "execution_count": 56,
   "metadata": {},
   "outputs": [
    {
     "data": {
      "text/plain": [
       "array([[0.],\n",
       "       [0.],\n",
       "       [0.]])"
      ]
     },
     "execution_count": 56,
     "metadata": {},
     "output_type": "execute_result"
    }
   ],
   "source": [
    "theta = np.zeros((X.shape[0]+1, 1))\n",
    "theta"
   ]
  },
  {
   "cell_type": "code",
   "execution_count": 57,
   "metadata": {},
   "outputs": [
    {
     "data": {
      "text/plain": [
       "(3, 100)"
      ]
     },
     "execution_count": 57,
     "metadata": {},
     "output_type": "execute_result"
    }
   ],
   "source": [
    "X = np.concatenate([np.ones([1, X.shape[1]]), X])\n",
    "X.shape"
   ]
  },
  {
   "cell_type": "code",
   "execution_count": 58,
   "metadata": {},
   "outputs": [],
   "source": [
    "for i in range(1, X.shape[0]):\n",
    "    X[i, :] = (X[i, :] - np.mean(X[i, :])) / (np.std(X[i, :]))"
   ]
  },
  {
   "cell_type": "code",
   "execution_count": 59,
   "metadata": {},
   "outputs": [
    {
     "data": {
      "text/plain": [
       "Text(0, 0.5, 'Exam 2 score')"
      ]
     },
     "execution_count": 59,
     "metadata": {},
     "output_type": "execute_result"
    },
    {
     "data": {
      "image/png": "[encoded data removed]",
      "text/plain": [
       "<Figure size 432x288 with 1 Axes>"
      ]
     },
     "metadata": {
      "needs_background": "light"
     },
     "output_type": "display_data"
    }
   ],
   "source": [
    "dataAdmitted = data.loc[(data['Admitted'] == 1)]\n",
    "dataNotAdmitted = data.loc[(data['Admitted'] == 0)]\n",
    "plt.scatter(dataAdmitted['Exam 1'],dataAdmitted['Exam 2'], label = 'Admitted',marker='x')\n",
    "plt.scatter(dataNotAdmitted['Exam 1'],dataNotAdmitted['Exam 2'], label = 'Not Admitted',marker='*')\n",
    "plt.legend()\n",
    "plt.xlabel('Exam 1 score')\n",
    "plt.ylabel('Exam 2 score')"
   ]
  },
  {
   "cell_type": "code",
   "execution_count": 60,
   "metadata": {},
   "outputs": [],
   "source": [
    "def sig(t):\n",
    "    return 1.0/(1.0 + np.exp(-t))"
   ]
  },
  {
   "cell_type": "code",
   "execution_count": 61,
   "metadata": {},
   "outputs": [
    {
     "data": {
      "text/plain": [
       "[<matplotlib.lines.Line2D at 0x1fdf7238bb0>]"
      ]
     },
     "execution_count": 61,
     "metadata": {},
     "output_type": "execute_result"
    },
    {
     "data": {
      "image/png": "[encoded data removed]",
      "text/plain": [
       "<Figure size 432x288 with 1 Axes>"
      ]
     },
     "metadata": {
      "needs_background": "light"
     },
     "output_type": "display_data"
    }
   ],
   "source": [
    "x_sig = np.arange(-5,5,0.5)\n",
    "y_sig = [sig(i) for i in x_sig]\n",
    "\n",
    "plt.plot(x_sig,y_sig)"
   ]
  },
  {
   "cell_type": "code",
   "execution_count": 62,
   "metadata": {},
   "outputs": [],
   "source": [
    "def computeCost(theta,X,y):\n",
    "    return (-y*np.log(sig(theta.T@X)) -(1-y)*np.log(1-sig(theta.T@X))).sum()/X.shape[1]"
   ]
  },
  {
   "cell_type": "code",
   "execution_count": 63,
   "metadata": {},
   "outputs": [
    {
     "data": {
      "text/plain": [
       "0.6931471805599453"
      ]
     },
     "execution_count": 63,
     "metadata": {},
     "output_type": "execute_result"
    }
   ],
   "source": [
    "theta = np.zeros((X.shape[0], 1))\n",
    "computeCost(theta,X,y)"
   ]
  },
  {
   "cell_type": "code",
   "execution_count": 64,
   "metadata": {},
   "outputs": [],
   "source": [
    "def simple_gradient ( X , y , theta , alpha , it ):\n",
    "    cost = []\n",
    "    for i in range(it):\n",
    "       for k in range(X.shape[0]):\n",
    "           theta[k] = theta[k] - alpha/ X.shape[1] * (sig(theta.T@X) - y)@ (X[k,:]).T\n",
    "    cost.append(computeCost(theta,X,y))\n",
    "       \n",
    "    return theta,cost    "
   ]
  },
  {
   "cell_type": "code",
   "execution_count": 65,
   "metadata": {},
   "outputs": [
    {
     "data": {
      "text/plain": [
       "(array([[1.42929788],\n",
       "        [3.38040725],\n",
       "        [3.13521188]]),\n",
       " [0.20619425502972782])"
      ]
     },
     "execution_count": 65,
     "metadata": {},
     "output_type": "execute_result"
    }
   ],
   "source": [
    "simple_gradient(X,y,theta,1,150)"
   ]
  },
  {
   "cell_type": "code",
   "execution_count": 66,
   "metadata": {},
   "outputs": [
    {
     "data": {
      "text/html": [
       "<div>\n",
       "<style scoped>\n",
       "    .dataframe tbody tr th:only-of-type {\n",
       "        vertical-align: middle;\n",
       "    }\n",
       "\n",
       "    .dataframe tbody tr th {\n",
       "        vertical-align: top;\n",
       "    }\n",
       "\n",
       "    .dataframe thead th {\n",
       "        text-align: right;\n",
       "    }\n",
       "</style>\n",
       "<table border=\"1\" class=\"dataframe\">\n",
       "  <thead>\n",
       "    <tr style=\"text-align: right;\">\n",
       "      <th></th>\n",
       "      <th>original</th>\n",
       "      <th>predicted</th>\n",
       "    </tr>\n",
       "  </thead>\n",
       "  <tbody>\n",
       "    <tr>\n",
       "      <th>0</th>\n",
       "      <td>0.0</td>\n",
       "      <td>0.0</td>\n",
       "    </tr>\n",
       "    <tr>\n",
       "      <th>1</th>\n",
       "      <td>0.0</td>\n",
       "      <td>0.0</td>\n",
       "    </tr>\n",
       "    <tr>\n",
       "      <th>2</th>\n",
       "      <td>0.0</td>\n",
       "      <td>0.0</td>\n",
       "    </tr>\n",
       "    <tr>\n",
       "      <th>3</th>\n",
       "      <td>1.0</td>\n",
       "      <td>1.0</td>\n",
       "    </tr>\n",
       "    <tr>\n",
       "      <th>4</th>\n",
       "      <td>1.0</td>\n",
       "      <td>1.0</td>\n",
       "    </tr>\n",
       "    <tr>\n",
       "      <th>...</th>\n",
       "      <td>...</td>\n",
       "      <td>...</td>\n",
       "    </tr>\n",
       "    <tr>\n",
       "      <th>95</th>\n",
       "      <td>1.0</td>\n",
       "      <td>1.0</td>\n",
       "    </tr>\n",
       "    <tr>\n",
       "      <th>96</th>\n",
       "      <td>1.0</td>\n",
       "      <td>1.0</td>\n",
       "    </tr>\n",
       "    <tr>\n",
       "      <th>97</th>\n",
       "      <td>1.0</td>\n",
       "      <td>1.0</td>\n",
       "    </tr>\n",
       "    <tr>\n",
       "      <th>98</th>\n",
       "      <td>1.0</td>\n",
       "      <td>0.0</td>\n",
       "    </tr>\n",
       "    <tr>\n",
       "      <th>99</th>\n",
       "      <td>1.0</td>\n",
       "      <td>1.0</td>\n",
       "    </tr>\n",
       "  </tbody>\n",
       "</table>\n",
       "<p>100 rows × 2 columns</p>\n",
       "</div>"
      ],
      "text/plain": [
       "    original  predicted\n",
       "0        0.0        0.0\n",
       "1        0.0        0.0\n",
       "2        0.0        0.0\n",
       "3        1.0        1.0\n",
       "4        1.0        1.0\n",
       "..       ...        ...\n",
       "95       1.0        1.0\n",
       "96       1.0        1.0\n",
       "97       1.0        1.0\n",
       "98       1.0        0.0\n",
       "99       1.0        1.0\n",
       "\n",
       "[100 rows x 2 columns]"
      ]
     },
     "execution_count": 66,
     "metadata": {},
     "output_type": "execute_result"
    }
   ],
   "source": [
    "predicted=(sig(theta.T@X) >0.5).astype(int)\n",
    "comparisonTable = np.concatenate([y,predicted]).T\n",
    "df = pd.DataFrame(comparisonTable,columns=['original','predicted'])\n",
    "df"
   ]
  },
  {
   "cell_type": "code",
   "execution_count": 67,
   "metadata": {},
   "outputs": [
    {
     "name": "stdout",
     "output_type": "stream",
     "text": [
      "Dokładność wynosi 0.89\n"
     ]
    }
   ],
   "source": [
    "accuracy = df[df['original']==df['predicted']].shape[0]/df.shape[0]\n",
    "print(f'Dokładność wynosi {accuracy}')"
   ]
  },
  {
   "cell_type": "code",
   "execution_count": 68,
   "metadata": {},
   "outputs": [
    {
     "data": {
      "image/png": "[encoded data removed]",
      "text/plain": [
       "<Figure size 432x288 with 1 Axes>"
      ]
     },
     "metadata": {
      "needs_background": "light"
     },
     "output_type": "display_data"
    }
   ],
   "source": [
    "x1 = np.arange(-2.0, 2.0, 0.1)\n",
    "x2 = -theta[0, 0]/theta[2, 0] - theta[1, 0]/theta[2, 0] * x1\n",
    "plt.figure()\n",
    "plt.plot(x1, x2)\n",
    "X1_1 = X[1, y[0, :] == 1.0]\n",
    "X2_1 = X[2, y[0, :] == 1.0]\n",
    "X1_0 = X[1, y[0, :] == 0.0]\n",
    "X2_0 = X[2, y[0, :] == 0.0]\n",
    "plt.plot(X1_1, X2_1, 'o', label='Admitted')\n",
    "plt.plot(X1_0, X2_0, 'x', label='not admitted')\n",
    "plt.legend()\n",
    "plt.show()"
   ]
  },
  {
   "attachments": {},
   "cell_type": "markdown",
   "metadata": {},
   "source": [
    "Zadanie 2"
   ]
  },
  {
   "cell_type": "code",
   "execution_count": 69,
   "metadata": {},
   "outputs": [],
   "source": [
    "import numpy as np\n",
    "import matplotlib.pyplot as plt\n",
    "from sklearn.linear_model import LogisticRegression\n",
    "from sklearn import datasets\n",
    "from sklearn import metrics\n",
    " \n",
    "iris = datasets.load_iris()\n",
    "X = iris.data[:, :2]  # we are analyzing only 2 parameters\n",
    "Y = iris.target"
   ]
  },
  {
   "cell_type": "code",
   "execution_count": 70,
   "metadata": {},
   "outputs": [
    {
     "data": {
      "text/html": [
       "<style>#sk-container-id-2 {color: black;background-color: white;}#sk-container-id-2 pre{padding: 0;}#sk-container-id-2 div.sk-toggleable {background-color: white;}#sk-container-id-2 label.sk-toggleable__label {cursor: pointer;display: block;width: 100%;margin-bottom: 0;padding: 0.3em;box-sizing: border-box;text-align: center;}#sk-container-id-2 label.sk-toggleable__label-arrow:before {content: \"▸\";float: left;margin-right: 0.25em;color: #696969;}#sk-container-id-2 label.sk-toggleable__label-arrow:hover:before {color: black;}#sk-container-id-2 div.sk-estimator:hover label.sk-toggleable__label-arrow:before {color: black;}#sk-container-id-2 div.sk-toggleable__content {max-height: 0;max-width: 0;overflow: hidden;text-align: left;background-color: #f0f8ff;}#sk-container-id-2 div.sk-toggleable__content pre {margin: 0.2em;color: black;border-radius: 0.25em;background-color: #f0f8ff;}#sk-container-id-2 input.sk-toggleable__control:checked~div.sk-toggleable__content {max-height: 200px;max-width: 100%;overflow: auto;}#sk-container-id-2 input.sk-toggleable__control:checked~label.sk-toggleable__label-arrow:before {content: \"▾\";}#sk-container-id-2 div.sk-estimator input.sk-toggleable__control:checked~label.sk-toggleable__label {background-color: #d4ebff;}#sk-container-id-2 div.sk-label input.sk-toggleable__control:checked~label.sk-toggleable__label {background-color: #d4ebff;}#sk-container-id-2 input.sk-hidden--visually {border: 0;clip: rect(1px 1px 1px 1px);clip: rect(1px, 1px, 1px, 1px);height: 1px;margin: -1px;overflow: hidden;padding: 0;position: absolute;width: 1px;}#sk-container-id-2 div.sk-estimator {font-family: monospace;background-color: #f0f8ff;border: 1px dotted black;border-radius: 0.25em;box-sizing: border-box;margin-bottom: 0.5em;}#sk-container-id-2 div.sk-estimator:hover {background-color: #d4ebff;}#sk-container-id-2 div.sk-parallel-item::after {content: \"\";width: 100%;border-bottom: 1px solid gray;flex-grow: 1;}#sk-container-id-2 div.sk-label:hover label.sk-toggleable__label {background-color: #d4ebff;}#sk-container-id-2 div.sk-serial::before {content: \"\";position: absolute;border-left: 1px solid gray;box-sizing: border-box;top: 0;bottom: 0;left: 50%;z-index: 0;}#sk-container-id-2 div.sk-serial {display: flex;flex-direction: column;align-items: center;background-color: white;padding-right: 0.2em;padding-left: 0.2em;position: relative;}#sk-container-id-2 div.sk-item {position: relative;z-index: 1;}#sk-container-id-2 div.sk-parallel {display: flex;align-items: stretch;justify-content: center;background-color: white;position: relative;}#sk-container-id-2 div.sk-item::before, #sk-container-id-2 div.sk-parallel-item::before {content: \"\";position: absolute;border-left: 1px solid gray;box-sizing: border-box;top: 0;bottom: 0;left: 50%;z-index: -1;}#sk-container-id-2 div.sk-parallel-item {display: flex;flex-direction: column;z-index: 1;position: relative;background-color: white;}#sk-container-id-2 div.sk-parallel-item:first-child::after {align-self: flex-end;width: 50%;}#sk-container-id-2 div.sk-parallel-item:last-child::after {align-self: flex-start;width: 50%;}#sk-container-id-2 div.sk-parallel-item:only-child::after {width: 0;}#sk-container-id-2 div.sk-dashed-wrapped {border: 1px dashed gray;margin: 0 0.4em 0.5em 0.4em;box-sizing: border-box;padding-bottom: 0.4em;background-color: white;}#sk-container-id-2 div.sk-label label {font-family: monospace;font-weight: bold;display: inline-block;line-height: 1.2em;}#sk-container-id-2 div.sk-label-container {text-align: center;}#sk-container-id-2 div.sk-container {/* jupyter's `normalize.less` sets `[hidden] { display: none; }` but bootstrap.min.css set `[hidden] { display: none !important; }` so we also need the `!important` here to be able to override the default hidden behavior on the sphinx rendered scikit-learn.org. See: https://github.com/scikit-learn/scikit-learn/issues/21755 */display: inline-block !important;position: relative;}#sk-container-id-2 div.sk-text-repr-fallback {display: none;}</style><div id=\"sk-container-id-2\" class=\"sk-top-container\"><div class=\"sk-text-repr-fallback\"><pre>LogisticRegression(C=100000.0)</pre><b>In a Jupyter environment, please rerun this cell to show the HTML representation or trust the notebook. <br />On GitHub, the HTML representation is unable to render, please try loading this page with nbviewer.org.</b></div><div class=\"sk-container\" hidden><div class=\"sk-item\"><div class=\"sk-estimator sk-toggleable\"><input class=\"sk-toggleable__control sk-hidden--visually\" id=\"sk-estimator-id-2\" type=\"checkbox\" checked><label for=\"sk-estimator-id-2\" class=\"sk-toggleable__label sk-toggleable__label-arrow\">LogisticRegression</label><div class=\"sk-toggleable__content\"><pre>LogisticRegression(C=100000.0)</pre></div></div></div></div></div>"
      ],
      "text/plain": [
       "LogisticRegression(C=100000.0)"
      ]
     },
     "execution_count": 70,
     "metadata": {},
     "output_type": "execute_result"
    }
   ],
   "source": [
    "logreg = LogisticRegression(C=1e5)\n",
    "logreg.fit(X, Y)"
   ]
  },
  {
   "cell_type": "code",
   "execution_count": 71,
   "metadata": {},
   "outputs": [
    {
     "data": {
      "image/png": "[encoded data removed]",
      "text/plain": [
       "<Figure size 576x432 with 1 Axes>"
      ]
     },
     "metadata": {},
     "output_type": "display_data"
    }
   ],
   "source": [
    "# Plot the decision boundary. For that, we will assign a color to each\n",
    "# point in the mesh [x_min, x_max]x[y_min, y_max].\n",
    "x_min, x_max = X[:, 0].min() - .5, X[:, 0].max() + .5\n",
    "y_min, y_max = X[:, 1].min() - .5, X[:, 1].max() + .5\n",
    "h = .02  # step size in the mesh\n",
    "xx, yy = np.meshgrid(np.arange(x_min, x_max, h), np.arange(y_min, y_max, h))\n",
    "Z = logreg.predict(np.c_[xx.ravel(), yy.ravel()])\n",
    " \n",
    "# Put the result into a color plot\n",
    "Z = Z.reshape(xx.shape)\n",
    "plt.figure(1, figsize=(8, 6))\n",
    "plt.pcolormesh(xx, yy, Z, cmap=plt.cm.Paired)\n",
    " \n",
    "# Plot also the training points\n",
    "plt.scatter(X[:, 0], X[:, 1], c=Y, edgecolors='k', cmap=plt.cm.Paired)\n",
    "plt.xlabel('Sepal length')\n",
    "plt.ylabel('Sepal width')\n",
    " \n",
    "plt.xlim(xx.min(), xx.max())\n",
    "plt.ylim(yy.min(), yy.max())\n",
    "plt.xticks(())\n",
    "plt.yticks(())\n",
    " \n",
    "plt.show()"
   ]
  },
  {
   "cell_type": "code",
   "execution_count": 72,
   "metadata": {},
   "outputs": [
    {
     "data": {
      "text/plain": [
       "array([[1.00000000e+00, 1.31551153e-13, 1.91419233e-14],\n",
       "       [9.99999965e-01, 3.24521032e-08, 2.63646455e-09],\n",
       "       [1.00000000e+00, 6.61524924e-17, 3.98331074e-18],\n",
       "       [1.00000000e+00, 3.15404470e-17, 1.50790379e-18],\n",
       "       [1.00000000e+00, 5.93945141e-18, 7.44040693e-19],\n",
       "       [1.00000000e+00, 1.18112206e-14, 3.57551062e-15],\n",
       "       [1.00000000e+00, 2.90645033e-23, 1.56890317e-24],\n",
       "       [1.00000000e+00, 6.27214793e-14, 7.24627840e-15],\n",
       "       [1.00000000e+00, 7.16986717e-18, 2.16088931e-19],\n",
       "       [1.00000000e+00, 3.15796916e-10, 2.67154681e-11],\n",
       "       [1.00000000e+00, 1.24728225e-10, 3.48222156e-11],\n",
       "       [1.00000000e+00, 1.35017356e-18, 1.06624149e-19],\n",
       "       [1.00000000e+00, 1.50566903e-10, 1.01132847e-11],\n",
       "       [1.00000000e+00, 3.23714970e-22, 8.39931056e-24],\n",
       "       [9.99999585e-01, 2.48035024e-07, 1.67339167e-07],\n",
       "       [1.00000000e+00, 1.03195302e-17, 6.76754902e-18],\n",
       "       [1.00000000e+00, 1.18112206e-14, 3.57551062e-15],\n",
       "       [1.00000000e+00, 1.31551153e-13, 1.91419233e-14],\n",
       "       [9.99981596e-01, 1.21523931e-05, 6.25141599e-06],\n",
       "       [1.00000000e+00, 1.21224310e-19, 1.99162734e-20],\n",
       "       [9.99831207e-01, 1.35330712e-04, 3.34626691e-05],\n",
       "       [1.00000000e+00, 1.24573223e-17, 1.96547373e-18],\n",
       "       [1.00000000e+00, 2.75228211e-27, 1.61093424e-28],\n",
       "       [9.99999998e-01, 1.38919950e-09, 1.86424891e-10],\n",
       "       [1.00000000e+00, 1.35017356e-18, 1.06624149e-19],\n",
       "       [9.99992318e-01, 6.99443880e-06, 6.87303150e-07],\n",
       "       [1.00000000e+00, 6.27214793e-14, 7.24627840e-15],\n",
       "       [1.00000000e+00, 2.83535869e-11, 4.99016941e-12],\n",
       "       [9.99999997e-01, 2.91368759e-09, 4.92463959e-10],\n",
       "       [1.00000000e+00, 6.61524924e-17, 3.98331074e-18],\n",
       "       [1.00000000e+00, 1.46519200e-12, 1.02478573e-13],\n",
       "       [9.99831207e-01, 1.35330712e-04, 3.34626691e-05],\n",
       "       [1.00000000e+00, 2.40767648e-23, 5.40207125e-24],\n",
       "       [1.00000000e+00, 2.34586595e-18, 9.69818133e-19],\n",
       "       [1.00000000e+00, 3.15796916e-10, 2.67154681e-11],\n",
       "       [9.99999999e-01, 6.62348034e-10, 7.05721491e-11],\n",
       "       [9.99627839e-01, 2.83783009e-04, 8.83777190e-05],\n",
       "       [1.00000000e+00, 2.75570667e-20, 2.85408544e-21],\n",
       "       [1.00000000e+00, 6.97711901e-20, 2.18964323e-21],\n",
       "       [1.00000000e+00, 1.35185353e-11, 1.88905557e-12],\n",
       "       [1.00000000e+00, 6.10353323e-16, 7.34270114e-17],\n",
       "       [9.98131615e-01, 1.81644455e-03, 5.19403694e-05],\n",
       "       [1.00000000e+00, 6.60702837e-24, 2.24830399e-25],\n",
       "       [1.00000000e+00, 6.10353323e-16, 7.34270114e-17],\n",
       "       [1.00000000e+00, 1.21224310e-19, 1.99162734e-20],\n",
       "       [1.00000000e+00, 1.50566903e-10, 1.01132847e-11],\n",
       "       [1.00000000e+00, 1.21224310e-19, 1.99162734e-20],\n",
       "       [1.00000000e+00, 3.06925424e-19, 1.52796874e-20],\n",
       "       [1.00000000e+00, 5.78697218e-13, 1.33575461e-13],\n",
       "       [1.00000000e+00, 6.44542074e-12, 7.15112187e-13],\n",
       "       [5.57634429e-39, 1.72863287e-01, 8.27136713e-01],\n",
       "       [1.27913924e-24, 3.95540472e-01, 6.04459528e-01],\n",
       "       [1.40982141e-38, 2.08371788e-01, 7.91628212e-01],\n",
       "       [2.13154000e-21, 8.39191909e-01, 1.60808091e-01],\n",
       "       [5.23094474e-35, 3.88782316e-01, 6.11217684e-01],\n",
       "       [4.66484127e-16, 7.44485883e-01, 2.55514117e-01],\n",
       "       [3.09317813e-20, 4.31846804e-01, 5.68153196e-01],\n",
       "       [2.45983712e-05, 9.40067614e-01, 5.99077879e-02],\n",
       "       [2.15262360e-35, 3.35562047e-01, 6.64437953e-01],\n",
       "       [2.51572628e-06, 8.87056391e-01, 1.12941093e-01],\n",
       "       [1.02168305e-15, 9.38473885e-01, 6.15261151e-02],\n",
       "       [9.22263821e-17, 6.47487671e-01, 3.52512329e-01],\n",
       "       [3.59942072e-35, 6.77332830e-01, 3.22667170e-01],\n",
       "       [1.69061231e-23, 5.66607125e-01, 4.33392875e-01],\n",
       "       [1.07127346e-11, 7.71918798e-01, 2.28081202e-01],\n",
       "       [8.73831252e-34, 2.78019782e-01, 7.21980218e-01],\n",
       "       [1.09059509e-09, 7.64715389e-01, 2.35284610e-01],\n",
       "       [2.02265108e-20, 7.14971767e-01, 2.85028233e-01],\n",
       "       [6.74126517e-40, 5.89301596e-01, 4.10698404e-01],\n",
       "       [9.94541532e-20, 7.99160688e-01, 2.00839312e-01],\n",
       "       [9.45815725e-13, 6.28800535e-01, 3.71199465e-01],\n",
       "       [1.67393701e-25, 5.76516968e-01, 4.23483032e-01],\n",
       "       [2.95099252e-36, 5.12357059e-01, 4.87642941e-01],\n",
       "       [1.67393701e-25, 5.76516968e-01, 4.23483032e-01],\n",
       "       [1.26623165e-30, 4.24904380e-01, 5.75095620e-01],\n",
       "       [2.15301026e-33, 3.26599757e-01, 6.73400243e-01],\n",
       "       [3.55324986e-42, 2.64418695e-01, 7.35581305e-01],\n",
       "       [8.75407318e-36, 2.86215584e-01, 7.13784416e-01],\n",
       "       [3.93959927e-21, 6.12599595e-01, 3.87400405e-01],\n",
       "       [4.50693845e-20, 7.59575909e-01, 2.40424091e-01],\n",
       "       [2.17597399e-19, 8.33655309e-01, 1.66344691e-01],\n",
       "       [2.17597399e-19, 8.33655309e-01, 1.66344691e-01],\n",
       "       [2.02265108e-20, 7.14971767e-01, 2.85028233e-01],\n",
       "       [3.84648785e-25, 6.31624520e-01, 3.68375480e-01],\n",
       "       [5.47355934e-05, 8.26189038e-01, 1.73756226e-01],\n",
       "       [4.15378121e-11, 5.63629061e-01, 4.36370939e-01],\n",
       "       [8.73831252e-34, 2.78019782e-01, 7.21980218e-01],\n",
       "       [2.90458775e-40, 5.32548389e-01, 4.67451611e-01],\n",
       "       [1.09059509e-09, 7.64715389e-01, 2.35284610e-01],\n",
       "       [2.22082977e-17, 8.27967162e-01, 1.72032838e-01],\n",
       "       [2.26608151e-15, 8.22126011e-01, 1.77873989e-01],\n",
       "       [1.70676720e-21, 5.56643719e-01, 4.43356281e-01],\n",
       "       [1.99078125e-22, 7.23146757e-01, 2.76853243e-01],\n",
       "       [1.09998176e-09, 9.31079042e-01, 6.89209571e-02],\n",
       "       [1.03276387e-15, 7.85854718e-01, 2.14145282e-01],\n",
       "       [4.82226343e-12, 7.28786919e-01, 2.71213081e-01],\n",
       "       [4.74365267e-14, 7.36711586e-01, 2.63288414e-01],\n",
       "       [7.19088221e-26, 5.19437770e-01, 4.80562230e-01],\n",
       "       [5.27614789e-08, 9.11509953e-01, 8.84899944e-02],\n",
       "       [4.66484127e-16, 7.44485883e-01, 2.55514117e-01],\n",
       "       [3.09317813e-20, 4.31846804e-01, 5.68153196e-01],\n",
       "       [2.02265108e-20, 7.14971767e-01, 2.85028233e-01],\n",
       "       [2.23637367e-45, 1.57790503e-01, 8.42209497e-01],\n",
       "       [3.03111966e-28, 4.71919344e-01, 5.28080656e-01],\n",
       "       [5.25325944e-31, 3.69730485e-01, 6.30269515e-01],\n",
       "       [2.05650428e-57, 6.74889765e-02, 9.32511024e-01],\n",
       "       [2.51527251e-03, 9.35411716e-01, 6.20730112e-02],\n",
       "       [3.49333566e-52, 1.17662611e-01, 8.82337389e-01],\n",
       "       [8.78809495e-46, 3.29270439e-01, 6.70729561e-01],\n",
       "       [8.38974562e-36, 1.08339981e-01, 8.91660019e-01],\n",
       "       [5.26762323e-27, 3.51076012e-01, 6.48923988e-01],\n",
       "       [1.25519099e-34, 4.44792868e-01, 5.55207132e-01],\n",
       "       [3.53317925e-38, 2.48978658e-01, 7.51021342e-01],\n",
       "       [4.42800196e-22, 7.66888701e-01, 2.33111299e-01],\n",
       "       [2.05434534e-18, 7.06653305e-01, 2.93346695e-01],\n",
       "       [1.27913924e-24, 3.95540472e-01, 6.04459528e-01],\n",
       "       [5.25325944e-31, 3.69730485e-01, 6.30269515e-01],\n",
       "       [7.29483545e-44, 4.14908408e-02, 9.58509159e-01],\n",
       "       [8.33265396e-68, 6.57263986e-02, 9.34273601e-01],\n",
       "       [3.59942072e-35, 6.77332830e-01, 3.22667170e-01],\n",
       "       [1.40290210e-36, 2.01774929e-01, 7.98225071e-01],\n",
       "       [1.05199076e-13, 7.78965413e-01, 2.21034587e-01],\n",
       "       [8.15692982e-64, 6.09274857e-02, 9.39072514e-01],\n",
       "       [2.99323666e-32, 4.92125322e-01, 5.07874678e-01],\n",
       "       [8.69834548e-30, 2.62068498e-01, 7.37931502e-01],\n",
       "       [8.68004651e-44, 1.24997674e-01, 8.75002326e-01],\n",
       "       [7.13353415e-28, 5.29530616e-01, 4.70469384e-01],\n",
       "       [1.70676720e-21, 5.56643719e-01, 4.43356281e-01],\n",
       "       [1.26095295e-32, 4.34822397e-01, 5.65177603e-01],\n",
       "       [8.81964457e-48, 1.34122278e-01, 8.65877722e-01],\n",
       "       [1.38044019e-56, 1.02982655e-01, 8.97017345e-01],\n",
       "       [1.08766738e-48, 2.87381981e-02, 9.71261802e-01],\n",
       "       [1.26095295e-32, 4.34822397e-01, 5.65177603e-01],\n",
       "       [3.01273449e-30, 4.82014980e-01, 5.17985020e-01],\n",
       "       [1.63911519e-29, 5.96145704e-01, 4.03854296e-01],\n",
       "       [7.98191796e-60, 5.64577844e-02, 9.43542216e-01],\n",
       "       [3.10575406e-18, 4.21945987e-01, 5.78054013e-01],\n",
       "       [1.27532668e-26, 4.05256073e-01, 5.94743927e-01],\n",
       "       [3.98468042e-19, 6.02952602e-01, 3.97047398e-01],\n",
       "       [1.40982141e-38, 2.08371788e-01, 7.91628212e-01],\n",
       "       [8.73831252e-34, 2.78019782e-01, 7.21980218e-01],\n",
       "       [1.40982141e-38, 2.08371788e-01, 7.91628212e-01],\n",
       "       [2.02265108e-20, 7.14971767e-01, 2.85028233e-01],\n",
       "       [3.50892122e-34, 2.34153207e-01, 7.65846793e-01],\n",
       "       [8.69834548e-30, 2.62068498e-01, 7.37931502e-01],\n",
       "       [8.75407318e-36, 2.86215584e-01, 7.13784416e-01],\n",
       "       [2.95099252e-36, 5.12357059e-01, 4.87642941e-01],\n",
       "       [5.25325944e-31, 3.69730485e-01, 6.30269515e-01],\n",
       "       [7.43882338e-16, 4.68900505e-01, 5.31099495e-01],\n",
       "       [9.22263821e-17, 6.47487671e-01, 3.52512329e-01]])"
      ]
     },
     "execution_count": 72,
     "metadata": {},
     "output_type": "execute_result"
    }
   ],
   "source": [
    "predictions = logreg.predict_proba(X)\n",
    "predictions"
   ]
  },
  {
   "cell_type": "code",
   "execution_count": 73,
   "metadata": {},
   "outputs": [
    {
     "name": "stdout",
     "output_type": "stream",
     "text": [
      "Accuracy 1: 0.8333333333333334\n",
      "Accuracy 2: 0.8333333333333334\n"
     ]
    },
    {
     "data": {
      "text/plain": [
       "<AxesSubplot:>"
      ]
     },
     "execution_count": 73,
     "metadata": {},
     "output_type": "execute_result"
    },
    {
     "data": {
      "image/png": "[encoded data removed]",
      "text/plain": [
       "<Figure size 432x288 with 2 Axes>"
      ]
     },
     "metadata": {
      "needs_background": "light"
     },
     "output_type": "display_data"
    }
   ],
   "source": [
    "import seaborn as sns\n",
    "\n",
    "\n",
    "predictions = logreg.predict(X)\n",
    "\n",
    "print(f'Accuracy 1: {logreg.score(X,Y)}')\n",
    "print(f'Accuracy 2: {metrics.accuracy_score(Y,predictions)}')\n",
    "cf_matrix=metrics.confusion_matrix(Y, predictions)\n",
    "sns.heatmap(cf_matrix, annot=True)\n",
    "\n",
    "\n"
   ]
  }
 ],
 "metadata": {
  "kernelspec": {
   "display_name": "base",
   "language": "python",
   "name": "python3"
  },
  "language_info": {
   "codemirror_mode": {
    "name": "ipython",
    "version": 3
   },
   "file_extension": ".py",
   "mimetype": "text/x-python",
   "name": "python",
   "nbconvert_exporter": "python",
   "pygments_lexer": "ipython3",
   "version": "3.9.12"
  },
  "orig_nbformat": 4
 },
 "nbformat": 4,
 "nbformat_minor": 2
}
